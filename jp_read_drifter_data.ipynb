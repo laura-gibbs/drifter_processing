{
 "cells": [
  {
   "cell_type": "code",
   "execution_count": 1,
   "metadata": {},
   "outputs": [
    {
     "name": "stderr",
     "output_type": "stream",
     "text": [
      "C:\\Users\\oa18724\\Anaconda3\\envs\\dl_env\\lib\\site-packages\\scipy\\__init__.py:146: UserWarning: A NumPy version >=1.16.5 and <1.23.0 is required for this version of SciPy (detected version 1.23.1\n",
      "  warnings.warn(f\"A NumPy version >={np_minversion} and <{np_maxversion}\"\n"
     ]
    }
   ],
   "source": [
    "import os\n",
    "from time import time\n",
    "import numpy as np\n",
    "import pandas as pd\n",
    "import netCDF4 as nc\n",
    "import matplotlib.pyplot as plt\n",
    "import cartopy.crs as ccrs\n",
    "from cartopy.feature import GSHHSFeature\n",
    "from cartopy.mpl.ticker import LongitudeFormatter, LatitudeFormatter\n",
    "import xarray as xr\n",
    "from scipy import interpolate\n",
    "from datetime import date\n",
    "import math\n",
    "from scipy import signal"
   ]
  },
  {
   "cell_type": "code",
   "execution_count": 191,
   "metadata": {},
   "outputs": [],
   "source": [
    "omega = 7.2921e-5"
   ]
  },
  {
   "cell_type": "code",
   "execution_count": 2,
   "metadata": {},
   "outputs": [],
   "source": [
    "def plot_drifter_trajectories(df, direction=None, global_extent=False):\n",
    "    ids = df['id'].unique()\n",
    "    for id in ids:\n",
    "        # df_id = df_id[1:-1]\n",
    "        df_id = df.loc[df['id']==id]\n",
    "        fig = plt.figure(figsize=(20,12))\n",
    "        crs = ccrs.PlateCarree()\n",
    "        ax = fig.add_subplot(1, 1, 1, projection=crs)\n",
    "        ax.add_feature(GSHHSFeature(scale='intermediate', facecolor='lightgrey', linewidth=0.2))\n",
    "        ax.set_xticks(np.linspace(-180, 180, 19), crs=crs)\n",
    "        ax.set_yticks(np.linspace(-90, 90, 19), crs=crs)\n",
    "        lon_formatter = LongitudeFormatter(zero_direction_label=True)\n",
    "        lat_formatter = LatitudeFormatter()\n",
    "        ax.xaxis.set_major_formatter(lon_formatter)\n",
    "        ax.yaxis.set_major_formatter(lat_formatter)\n",
    "        if global_extent:\n",
    "            ax.set_global()\n",
    "        # ax.gridlines()\n",
    "        if direction=='v':\n",
    "            plt.scatter(x=df_id.lon, y=df_id.lat, s=5, c=df_id.vn, transform=crs, cmap='jet')\n",
    "        elif direction=='u':\n",
    "            plt.scatter(x=df_id.lon, y=df_id.lat, s=5, c=df_id.ve, transform=crs, cmap='jet')\n",
    "        elif direction=='corr_filt_v':\n",
    "            plt.scatter(x=df_id.filt_lon, y=df_id.filt_lat, s=5, c=df_id.corr_vn, transform=crs, cmap='jet')\n",
    "        elif direction=='corr_filt_u':\n",
    "            plt.scatter(x=df_id.filt_lon, y=df_id.filt_lat, s=5, c=df_id.corr_ve, transform=crs, cmap='jet')\n",
    "        else:\n",
    "            plt.scatter(x=df_id.lon, y=df_id.lat, s=5, c=df_id.spd, transform=crs, cmap='jet')\n",
    "            print('Displayed speed: input v for northward velocity or u for eastward')\n",
    "        plt.show()"
   ]
  },
  {
   "cell_type": "code",
   "execution_count": 3,
   "metadata": {},
   "outputs": [],
   "source": [
    "def plot_time_step(time_step_list, direction=None):\n",
    "    fig = plt.figure(figsize=(20,12))\n",
    "    crs = ccrs.PlateCarree()\n",
    "    ax = fig.add_subplot(1, 1, 1, projection=crs)\n",
    "    ax.add_feature(GSHHSFeature(scale='intermediate', facecolor='lightgrey', linewidth=0.2))\n",
    "    ax.set_xticks(np.linspace(-180, 180, 19), crs=crs)\n",
    "    ax.set_yticks(np.linspace(-90, 90, 19), crs=crs)\n",
    "    lon_formatter = LongitudeFormatter(zero_direction_label=True)\n",
    "    lat_formatter = LatitudeFormatter()\n",
    "    ax.xaxis.set_major_formatter(lon_formatter)\n",
    "    ax.yaxis.set_major_formatter(lat_formatter)\n",
    "    ax.set_global()\n",
    "    if direction=='v':\n",
    "        plt.scatter(x=time_step_list.lon, y=time_step_list.lat, s=5, c=time_step_list.vn, transform=crs, cmap='jet')\n",
    "    elif direction=='u':\n",
    "        plt.scatter(x=time_step_list.lon, y=time_step_list.lat, s=5, c=time_step_list.ve, transform=crs, cmap='jet')\n",
    "    else:\n",
    "        plt.scatter(x=time_step_list.lon, y=time_step_list.lat, s=5, c=time_step_list.spd, transform=crs, cmap='jet')\n",
    "        print('Displayed speed: input v for northward velocity or u for eastward')\n",
    "    plt.show()"
   ]
  },
  {
   "cell_type": "code",
   "execution_count": 4,
   "metadata": {},
   "outputs": [],
   "source": [
    "def get_time_step(df, years, months, days):\n",
    "    df = df.copy()\n",
    "    df_list = []\n",
    "    # could replace nested for loop with hrs\n",
    "    for year in years:\n",
    "        for month in months:\n",
    "            for day in days:\n",
    "                # df = df.loc[df[\"spd\"]<999.999]\n",
    "                df_t = df.loc[(df['yy']==year) & (df['mm']==month) & (df['dd']==day)]\n",
    "                df_list.append(df_t)\n",
    "    return df_list"
   ]
  },
  {
   "cell_type": "code",
   "execution_count": 5,
   "metadata": {},
   "outputs": [],
   "source": [
    "def get_time_step_over_month(df, years, months):\n",
    "    df = df.copy()\n",
    "    df_list = []\n",
    "    for year in years:\n",
    "        for month in months:\n",
    "            # df = df.loc[df[\"spd\"]<999.999]\n",
    "            df_t = df.loc[(df['yy']==year) & (df['mm']==month)]\n",
    "            df_list.append(df_t)\n",
    "    return df_list"
   ]
  },
  {
   "cell_type": "code",
   "execution_count": 6,
   "metadata": {},
   "outputs": [],
   "source": [
    "def get_drifter_vel(df, direction=None):\n",
    "    df = df.copy()\n",
    "    # df = df.loc[df[\"spd\"]<999.999]\n",
    "    if direction == 'v':\n",
    "        return df['vn']\n",
    "    elif direction == 'u':\n",
    "        return df['ve']\n",
    "    else:\n",
    "        return df['spd']\n"
   ]
  },
  {
   "cell_type": "code",
   "execution_count": 7,
   "metadata": {},
   "outputs": [],
   "source": [
    "def add_hours_column(df):\n",
    "    df = df.copy()\n",
    "    days, mnths, yrs = df['dd'], df['mm'], df['yy']\n",
    "    conv_times = []\n",
    "    for yr, mnth, day in zip(yrs, mnths, days):\n",
    "        t = convert_time_to_hrs(year=yr, month=mnth, day=day)\n",
    "        conv_times.append(t)\n",
    "    df['hrs'] = conv_times\n",
    "    return df"
   ]
  },
  {
   "cell_type": "code",
   "execution_count": 8,
   "metadata": {},
   "outputs": [],
   "source": [
    "def convert_time_to_hrs(year, month, day):\n",
    "    d_split = math.modf(day)\n",
    "    d0 = date(1900, 1, 1)\n",
    "    d1 = date(year, month, int(d_split[1]))\n",
    "    diff = (d1 - d0)\n",
    "    hours = (diff.days + d_split[0]) * 24\n",
    "    return hours"
   ]
  },
  {
   "cell_type": "code",
   "execution_count": 9,
   "metadata": {},
   "outputs": [],
   "source": [
    "def read_dat_file(path, filename):\n",
    "    filepath = os.path.join(os.path.normpath(path), filename)\n",
    "    fid = open(filepath, mode='r')\n",
    "    df = pd.read_csv(fid, sep=\"\\s+\", header=None)\n",
    "    return df"
   ]
  },
  {
   "cell_type": "code",
   "execution_count": 10,
   "metadata": {},
   "outputs": [],
   "source": [
    "def read_drifters_to_df(path, filename, headers):\n",
    "    df = read_dat_file(path, filename)\n",
    "    df.columns = headers\n",
    "    df.astype(float)\n",
    "    df = df.loc[df[\"spd\"]<999.999]\n",
    "    return df"
   ]
  },
  {
   "cell_type": "code",
   "execution_count": 116,
   "metadata": {},
   "outputs": [],
   "source": [
    "def correct_velocities_wind_slip(df):\n",
    "    df = df.copy()\n",
    "    df['corr_ve'] = 0\n",
    "    df['corr_vn'] = 0\n",
    "    df['wind_u10'] = 0\n",
    "    df['wind_v10'] = 0\n",
    "    yrs = sorted(df['yy'].unique()) \n",
    "#     yrs = [1988, 1989, 1990, 1991, 1992] #----------------- remove ------------------\n",
    "    print(yrs)\n",
    "    for yr in yrs:\n",
    "        print(yr)\n",
    "        f_path = f'D:/era5/download_{yr}.nc'\n",
    "        if os.path.exists(f_path):\n",
    "            era5_name = f'D:/era5/download_{yr}.nc'\n",
    "            wind_dataset = nc.Dataset(era5_name)\n",
    "            df = subtract_windslip(df, wind_dataset)\n",
    "        else:\n",
    "            print(f'{yr} era5 file does not exist')\n",
    "    return df"
   ]
  },
  {
   "cell_type": "code",
   "execution_count": 117,
   "metadata": {},
   "outputs": [],
   "source": [
    "def subtract_windslip(df, wind_dataset):\n",
    "    df = df.copy()\n",
    "    times = wind_dataset.variables['time'][:]\n",
    "    u10, v10 = wind_dataset.variables['u10'], wind_dataset.variables['v10']\n",
    "    lats, lons = wind_dataset.variables['latitude'][:], wind_dataset.variables['longitude'][:]\n",
    "    for i, time in enumerate(times):\n",
    "        f_u10 = interpolate.interp2d(lons, lats, u10[i], kind='cubic')\n",
    "        f_v10 = interpolate.interp2d(lons, lats, v10[i], kind='cubic')\n",
    "        df_t = df.loc[df[\"hrs\"]==time]\n",
    "        indices = df.index[df[\"hrs\"]==time]\n",
    "        # any_true = np.any(df[\"hrs\"]==time)\n",
    "        # if any_true:\n",
    "            # print(i, f\"there was a match!!!\")\n",
    "        u10_new = df_t.apply(lambda x: f_u10(x['lon'], x['lat'])[0], axis=1)\n",
    "        v10_new = df_t.apply(lambda x: f_v10(x['lon'], x['lat'])[0], axis=1)\n",
    "        wind_slip_u = u10_new * 0.07\n",
    "        wind_slip_v = v10_new * 0.07\n",
    "        df.loc[indices,'corr_ve'] = df_t['ve'] - wind_slip_u\n",
    "        df.loc[indices,'corr_vn'] = df_t['vn'] - wind_slip_v\n",
    "        df.loc[indices, 'wind_u10'] = u10_new\n",
    "        df.loc[indices, 'wind_v10'] = v10_new\n",
    "    return df"
   ]
  },
  {
   "cell_type": "code",
   "execution_count": 13,
   "metadata": {},
   "outputs": [],
   "source": [
    "def filter_inertial_motion(df):\n",
    "    # print('-- filtering inertial motion --')\n",
    "    df = df.copy()\n",
    "    ids = df['id'].unique()\n",
    "\n",
    "    for id in ids:\n",
    "        df_id = df.loc[df['id']==id]\n",
    "        indices = df.index[df[\"id\"]==id]\n",
    "\n",
    "        corr_vn = np.array(df_id['corr_vn'])\n",
    "        corr_ve = np.array(df_id['corr_ve'])\n",
    "        lons = np.array(df_id['lon'])\n",
    "        lats = np.array(df_id['lat'])\n",
    "        lats[lats == 0] = 0.01\n",
    "        n = len(lats)\n",
    "        f = 2*omega*np.sin(lats)\n",
    "        T = (2*np.pi/(f))/3600\n",
    "        w = (np.floor(np.abs(T/6))).astype(int)\n",
    "\n",
    "        filt_lats = np.zeros(n)\n",
    "        filt_lons = np.zeros(n)\n",
    "        filt_ve = np.zeros(n)\n",
    "        filt_vn = np.zeros(n)\n",
    "        for i in range(n):\n",
    "            left_w = min(w[i], i)\n",
    "            right_w = min(w[i], n-i-1)\n",
    "            filt_lats[i] = np.mean(lats[i-left_w:i+right_w])\n",
    "            if not filt_lats[i]:\n",
    "                print(f'lat[{i}] is empty') \n",
    "            filt_lons[i] = np.mean(lons[i-left_w:i+right_w])\n",
    "            filt_ve[i] = np.mean(corr_ve[i-left_w:i+right_w])\n",
    "            filt_vn[i] = np.mean(corr_vn[i-left_w:i+right_w])\n",
    "        df.loc[indices, 'filt_lat'] = filt_lats\n",
    "        df.loc[indices, 'filt_lon'] = filt_lons\n",
    "        df.loc[indices, 'filt_ve'] = filt_ve\n",
    "        df.loc[indices, 'filt_vn'] = filt_vn\n",
    "    return df"
   ]
  },
  {
   "cell_type": "code",
   "execution_count": 122,
   "metadata": {},
   "outputs": [],
   "source": [
    "fpath = 'drifters/'\n",
    "fnames = ['buoydata_1_5000.dat', 'buoydata_5001_10000.dat', 'buoydata_10001_15000.dat','buoydata_15001_dec21.dat']    \n",
    "    \n",
    "headers = ['id', 'mm', 'dd', 'yy', 'lat', 'lon', 'temp', 've', 'vn', 'spd', 'var_lat', 'var_lon', 'var_temp']\n",
    "df_d = read_drifters_to_df(fpath, fnames[0], headers)\n",
    "df_d = df_d.drop(df_d.columns[[6,10,11,12]], axis=1)\n",
    "df_d = add_hours_column(df_d)\n",
    "# df_d = df_d.head(10)"
   ]
  },
  {
   "cell_type": "code",
   "execution_count": 123,
   "metadata": {},
   "outputs": [
    {
     "name": "stdout",
     "output_type": "stream",
     "text": [
      "[1979, 1980, 1981, 1982, 1983, 1984, 1985, 1986, 1987, 1988, 1989, 1990, 1991, 1992, 1993, 1994, 1995, 1996, 1997, 1998, 1999, 2000, 2001, 2002, 2003, 2004, 2005, 2006]\n",
      "1979\n",
      "1980\n",
      "1981\n",
      "1982\n",
      "1983\n",
      "1984\n",
      "1985\n",
      "1986\n",
      "1987\n",
      "1988\n",
      "1989\n",
      "1990\n",
      "1991\n",
      "1992\n",
      "1993\n",
      "1994\n",
      "1995\n",
      "1996\n",
      "1997\n",
      "1998\n",
      "1999\n",
      "2000\n",
      "2001\n",
      "2002\n",
      "2003\n",
      "2004\n",
      "2005\n",
      "2006\n"
     ]
    }
   ],
   "source": [
    "df_d = correct_velocities_wind_slip(df_d)"
   ]
  },
  {
   "cell_type": "code",
   "execution_count": 124,
   "metadata": {},
   "outputs": [
    {
     "name": "stdout",
     "output_type": "stream",
     "text": [
      "              id  mm    dd    yy     lat      lon      ve      vn     spd  \\\n",
      "1        7702986   3  8.25  1988  -1.242  274.772 -49.214  36.778  61.438   \n",
      "2        7702986   3  8.50  1988  -1.176  274.657 -57.514  28.439  64.161   \n",
      "3        7702986   3  8.75  1988  -1.131  274.548 -48.625  28.747  56.487   \n",
      "4        7702986   3  9.00  1988  -1.064  274.468 -50.787  34.399  61.340   \n",
      "5        7702986   3  9.25  1988  -0.997  274.351 -59.573  34.328  68.756   \n",
      "...          ...  ..   ...   ...     ...      ...     ...     ...     ...   \n",
      "8334588  9815710   3  8.25  1999  12.842   61.420  -6.746  12.206  13.946   \n",
      "8334589  9815710   3  8.50  1999  12.872   61.388  -3.180  12.852  13.239   \n",
      "8334590  9815710   3  8.75  1999  12.892   61.408   5.135  10.721  11.887   \n",
      "8334591  9815710   3  9.00  1999  12.914   61.408   3.649   8.132   8.914   \n",
      "8334592  9815710   3  9.25  1999  12.924   61.422   0.824   3.329   3.429   \n",
      "\n",
      "              hrs    corr_ve    corr_vn  wind_u10  wind_v10  \n",
      "1        772998.0 -49.175664  36.662035 -0.547660  1.656642  \n",
      "2        773004.0 -57.443969  28.272548 -1.000442  2.377883  \n",
      "3        773010.0 -48.563328  28.551940 -0.881035  2.786568  \n",
      "4        773016.0 -50.790066  34.321134  0.043796  1.112370  \n",
      "5        773022.0 -59.559843  34.265458 -0.187964  0.893453  \n",
      "...           ...        ...        ...       ...       ...  \n",
      "8334588  869406.0  -6.373976  12.588271 -5.314628 -5.461009  \n",
      "8334589  869412.0  -2.858112  13.246528 -4.598397 -5.636115  \n",
      "8334590  869418.0   5.528990  11.003500 -5.628423 -4.035713  \n",
      "8334591  869424.0   4.017897   8.386489 -5.269959 -3.635554  \n",
      "8334592  869430.0   1.149632   3.593881 -4.651887 -3.784017  \n",
      "\n",
      "[8275110 rows x 14 columns]\n"
     ]
    }
   ],
   "source": [
    "print(df_d)"
   ]
  },
  {
   "cell_type": "code",
   "execution_count": 125,
   "metadata": {},
   "outputs": [],
   "source": [
    "df_copy = df_d.copy()"
   ]
  },
  {
   "cell_type": "code",
   "execution_count": 127,
   "metadata": {},
   "outputs": [
    {
     "name": "stderr",
     "output_type": "stream",
     "text": [
      "C:\\Users\\oa18724\\Anaconda3\\envs\\dl_env\\lib\\site-packages\\numpy\\core\\fromnumeric.py:3432: RuntimeWarning: Mean of empty slice.\n",
      "  return _methods._mean(a, axis=axis, dtype=dtype,\n",
      "C:\\Users\\oa18724\\Anaconda3\\envs\\dl_env\\lib\\site-packages\\numpy\\core\\_methods.py:190: RuntimeWarning: invalid value encountered in double_scalars\n",
      "  ret = ret.dtype.type(ret / rcount)\n"
     ]
    }
   ],
   "source": [
    "df_filt = filter_inertial_motion(df_d)"
   ]
  },
  {
   "cell_type": "code",
   "execution_count": 150,
   "metadata": {},
   "outputs": [
    {
     "name": "stdout",
     "output_type": "stream",
     "text": [
      "[ 557662 2645564 3405442 3992679]\n",
      "None\n"
     ]
    }
   ],
   "source": [
    "nan_ind = np.where(df_filt['filt_lat'].isna())[0]\n",
    "print(print(nan_ind))\n",
    "# print(df_filt.loc[557662, :])"
   ]
  },
  {
   "cell_type": "code",
   "execution_count": 45,
   "metadata": {},
   "outputs": [],
   "source": [
    "# ammend according to above\n",
    "# df_filt2 = df_filt.drop([df_filt.index[259209], df_filt.index[2071742], df_filt.index[2471352]])"
   ]
  },
  {
   "cell_type": "code",
   "execution_count": null,
   "metadata": {},
   "outputs": [],
   "source": [
    "# def compute_geostrophic_anomalies():\n",
    "    "
   ]
  },
  {
   "cell_type": "code",
   "execution_count": 180,
   "metadata": {},
   "outputs": [],
   "source": [
    "def compute_mean_vel(df, box_size=5):\n",
    "    df = df.copy()\n",
    "    df[df.columns[0]].count()\n",
    "    df['vn_anom'] = 0\n",
    "    df['ve_anom'] = 0\n",
    "    lon_range = np.arange(0, 360, box_size)\n",
    "    lat_range = np.arange(-90, 90, box_size)\n",
    "#     lat_range = np.arange(np.nanmin(df['filt_lat'].to_numpy()), np.nanmax(df['filt_lat'].to_numpy()), box_size)\n",
    "#     mean_vn = np.zeros((len(lon_range),len(lat_range)))\n",
    "#     mean_ve = np.zeros((len(lon_range),len(lat_range)))\n",
    "    print('lon_range:', lon_range, 'lat_range:', lat_range)\n",
    "    \n",
    "    for lon in lon_range:\n",
    "        for lat in lat_range:\n",
    "#             box = df.loc[(df['filt_lon']>=lon) & (df['filt_lon']<lon+5) & (df['filt_lat']>=lat) & (df['filt_lat']<lat+5)]\n",
    "            indices = (df['filt_lon']>=lon) & (df['filt_lon']<lon+5) & (df['filt_lat']>=lat) & (df['filt_lat']<lat+5)\n",
    "            box = df.loc[indices]\n",
    "            if not box.empty:\n",
    "                mean_vn = np.mean(box['filt_vn'].to_numpy())\n",
    "                mean_ve = np.mean(box['filt_ve'].to_numpy())\n",
    "                df.loc[indices, 'vn_anom'] = box - mean_vn\n",
    "                df.loc[indices, 've_anom'] = box - mean_ve\n",
    "#                 print(f'{lon}, {lat}: BOX NOT EMPTY**')\n",
    "#             else:\n",
    "#                 print(f'{lon}, {lat}: Box is empty.')\n",
    "    return df"
   ]
  },
  {
   "cell_type": "code",
   "execution_count": 181,
   "metadata": {},
   "outputs": [
    {
     "name": "stdout",
     "output_type": "stream",
     "text": [
      "lon_range: [  0   5  10  15  20  25  30  35  40  45  50  55  60  65  70  75  80  85\n",
      "  90  95 100 105 110 115 120 125 130 135 140 145 150 155 160 165 170 175\n",
      " 180 185 190 195 200 205 210 215 220 225 230 235 240 245 250 255 260 265\n",
      " 270 275 280 285 290 295 300 305 310 315 320 325 330 335 340 345 350 355] lat_range: [-90 -85 -80 -75 -70 -65 -60 -55 -50 -45 -40 -35 -30 -25 -20 -15 -10  -5\n",
      "   0   5  10  15  20  25  30  35  40  45  50  55  60  65  70  75  80  85]\n"
     ]
    }
   ],
   "source": [
    "df_filt_anom = compute_mean_vel(df_filt)"
   ]
  },
  {
   "cell_type": "code",
   "execution_count": 183,
   "metadata": {},
   "outputs": [
    {
     "name": "stdout",
     "output_type": "stream",
     "text": [
      "              id  mm     dd    yy     lat      lon       ve      vn      spd  \\\n",
      "559893   7711545  11  16.75  1989   1.681  204.809 -120.571  47.363  129.540   \n",
      "2653369  7704951   7   9.25  1993  37.530  234.006   24.964  10.612   27.126   \n",
      "3416484  7717955   5  16.25  1994  39.524  235.040   15.204   4.717   15.919   \n",
      "4006118  9421179   3  31.50  1995 -34.065   25.477   27.585  -3.208   27.771   \n",
      "\n",
      "              hrs     corr_ve    corr_vn  wind_u10   wind_v10  filt_lat  \\\n",
      "559893   787842.0 -120.307778  47.286047 -3.760312   1.099331       NaN   \n",
      "2653369  819774.0   24.795039  11.392249  2.413727 -11.146416       NaN   \n",
      "3416484  827238.0   14.851686   4.934658  5.033059  -3.109398       NaN   \n",
      "4006118  834900.0   26.944998  -3.411094  9.142892   2.901348       NaN   \n",
      "\n",
      "         filt_lon  filt_ve  filt_vn  vn_anom  ve_anom  \n",
      "559893        NaN      NaN      NaN      0.0      0.0  \n",
      "2653369       NaN      NaN      NaN      0.0      0.0  \n",
      "3416484       NaN      NaN      NaN      0.0      0.0  \n",
      "4006118       NaN      NaN      NaN      0.0      0.0  \n"
     ]
    }
   ],
   "source": [
    "# print(df_filt_anom)\n",
    "print(df_filt_anom.loc[df_filt_anom['vn_anom']==0])\n"
   ]
  },
  {
   "cell_type": "code",
   "execution_count": 185,
   "metadata": {},
   "outputs": [
    {
     "name": "stdout",
     "output_type": "stream",
     "text": [
      "Int64Index([559893, 2653369, 3416484, 4006118], dtype='int64')\n"
     ]
    }
   ],
   "source": [
    "# df_filt_anom.isna().any()\n",
    "index = df_filt_anom['filt_lat'].index[df_filt_anom['filt_lat'].apply(np.isnan)]\n",
    "print(index)"
   ]
  },
  {
   "cell_type": "code",
   "execution_count": 240,
   "metadata": {},
   "outputs": [],
   "source": [
    "def compute_norm_wind_stress(df):\n",
    "    df = df.copy()\n",
    "    c_d_u = 0.0027 * 1/df['wind_u10'] + 0.000142 + 0.0000764 * df['wind_u10'].abs()\n",
    "    c_d_v = 0.0027 * 1/df['wind_v10'] + 0.000142 + 0.0000764 * df['wind_v10'].abs()\n",
    "    rho = 1.225\n",
    "    tau_u10 = c_d_u * rho * df['wind_u10'] * df['wind_u10'].abs()\n",
    "    tau_v10 = c_d_v * rho * df['wind_v10'] * df['wind_v10'].abs()\n",
    "    df['tau_u10'] = tau_u10\n",
    "    df['tau_v10'] = tau_v10\n",
    "    f = 2*omega*np.sin(df['filt_lat'])\n",
    "#     df['f'] = f\n",
    "    df['norm_tu10'] = tau_u10/((f*tau_u10).abs())**(1/2)\n",
    "    df['norm_tv10'] = tau_v10/((f*tau_v10).abs())**(1/2)\n",
    "    return df"
   ]
  },
  {
   "cell_type": "code",
   "execution_count": 241,
   "metadata": {},
   "outputs": [
    {
     "name": "stdout",
     "output_type": "stream",
     "text": [
      "              id  mm    dd    yy     lat      lon      ve      vn     spd  \\\n",
      "1        7702986   3  8.25  1988  -1.242  274.772 -49.214  36.778  61.438   \n",
      "2        7702986   3  8.50  1988  -1.176  274.657 -57.514  28.439  64.161   \n",
      "3        7702986   3  8.75  1988  -1.131  274.548 -48.625  28.747  56.487   \n",
      "4        7702986   3  9.00  1988  -1.064  274.468 -50.787  34.399  61.340   \n",
      "5        7702986   3  9.25  1988  -0.997  274.351 -59.573  34.328  68.756   \n",
      "...          ...  ..   ...   ...     ...      ...     ...     ...     ...   \n",
      "8334588  9815710   3  8.25  1999  12.842   61.420  -6.746  12.206  13.946   \n",
      "8334589  9815710   3  8.50  1999  12.872   61.388  -3.180  12.852  13.239   \n",
      "8334590  9815710   3  8.75  1999  12.892   61.408   5.135  10.721  11.887   \n",
      "8334591  9815710   3  9.00  1999  12.914   61.408   3.649   8.132   8.914   \n",
      "8334592  9815710   3  9.25  1999  12.924   61.422   0.824   3.329   3.429   \n",
      "\n",
      "              hrs  ...   filt_lat    filt_lon    filt_ve    filt_vn   vn_anom  \\\n",
      "1        772998.0  ...  -1.209000  274.714500 -53.309816  32.467292  5.917188   \n",
      "2        773004.0  ...  -1.183000  274.659000 -51.727653  31.162174  5.917188   \n",
      "3        773010.0  ...  -1.153250  274.611250 -51.493257  31.951914  5.917188   \n",
      "4        773016.0  ...  -1.092000  274.506000 -54.089301  31.352770  5.917188   \n",
      "5        773022.0  ...  -1.030500  274.401000 -53.540992  33.368866  5.917188   \n",
      "...           ...  ...        ...         ...        ...        ...       ...   \n",
      "8334588  869406.0  ...  12.800727   61.437273  -2.394029   9.691311  4.451804   \n",
      "8334589  869412.0  ...  12.815889   61.428222  -3.744416  10.858287  4.451804   \n",
      "8334590  869418.0  ...  12.827250   61.421375  -3.336931  12.610315  4.451804   \n",
      "8334591  869424.0  ...  12.855500   61.411500  -1.297408  12.913923  4.451804   \n",
      "8334592  869430.0  ...  12.868800   61.407800  -0.399383  11.848255  4.451804   \n",
      "\n",
      "          ve_anom   tau_u10   tau_v10  norm_tu10  norm_tv10  \n",
      "1        9.936860  0.001744  0.006382   3.575568   6.840363  \n",
      "2        9.936860  0.003041  0.010107   4.746042   8.652054  \n",
      "3        9.936860  0.002715  0.012592   4.512835   9.718929  \n",
      "4        9.936860  0.000145  0.004023   1.059104   5.575055  \n",
      "5        9.936860  0.000615  0.003161   2.217369   5.027118  \n",
      "...           ...       ...       ...        ...        ...  \n",
      "8334588 -3.906574 -0.001384 -0.002368  -6.393136  -8.361098  \n",
      "8334589 -3.906574  0.002431 -0.003640   8.215654 -10.053688  \n",
      "8334590 -3.906574 -0.003582  0.004363  -9.758231  10.770070  \n",
      "8334591 -3.906574 -0.001098  0.005228  -5.139674  11.213088  \n",
      "8334592 -3.906574  0.002200  0.004954   7.117334  10.679293  \n",
      "\n",
      "[8275110 rows x 24 columns]\n"
     ]
    }
   ],
   "source": [
    "df_filt_anom_tau = compute_norm_wind_stress(df_filt_anom)\n",
    "print(df_filt_anom_tau)"
   ]
  },
  {
   "cell_type": "code",
   "execution_count": 242,
   "metadata": {},
   "outputs": [
    {
     "name": "stdout",
     "output_type": "stream",
     "text": [
      "              id  mm     dd    yy     lat      lon       ve      vn      spd  \\\n",
      "559893   7711545  11  16.75  1989   1.681  204.809 -120.571  47.363  129.540   \n",
      "2653369  7704951   7   9.25  1993  37.530  234.006   24.964  10.612   27.126   \n",
      "3416484  7717955   5  16.25  1994  39.524  235.040   15.204   4.717   15.919   \n",
      "4006118  9421179   3  31.50  1995 -34.065   25.477   27.585  -3.208   27.771   \n",
      "\n",
      "              hrs  ...  filt_lat  filt_lon  filt_ve  filt_vn  vn_anom  \\\n",
      "559893   787842.0  ...       NaN       NaN      NaN      NaN      0.0   \n",
      "2653369  819774.0  ...       NaN       NaN      NaN      NaN      0.0   \n",
      "3416484  827238.0  ...       NaN       NaN      NaN      NaN      0.0   \n",
      "4006118  834900.0  ...       NaN       NaN      NaN      NaN      0.0   \n",
      "\n",
      "         ve_anom   tau_u10   tau_v10  norm_tu10  norm_tv10  \n",
      "559893       0.0  0.005001  0.003971        NaN        NaN  \n",
      "2653369      0.0  0.010313 -0.114354        NaN        NaN  \n",
      "3416484      0.0  0.032986  0.005789        NaN        NaN  \n",
      "4006118      0.0  0.116310  0.013346        NaN        NaN  \n",
      "\n",
      "[4 rows x 24 columns]\n",
      "4\n"
     ]
    }
   ],
   "source": [
    "print(df_filt_anom_tau.loc[df_filt_anom_tau['norm_tu10'].apply(np.isnan)])\n",
    "index = df_filt_anom_tau['norm_tu10'].index[df_filt_anom_tau['norm_tu10'].apply(np.isnan)]\n",
    "print(len(index))"
   ]
  },
  {
   "cell_type": "code",
   "execution_count": null,
   "metadata": {},
   "outputs": [],
   "source": []
  }
 ],
 "metadata": {
  "kernelspec": {
   "display_name": "dl_env",
   "language": "python",
   "name": "dl_env"
  },
  "language_info": {
   "codemirror_mode": {
    "name": "ipython",
    "version": 3
   },
   "file_extension": ".py",
   "mimetype": "text/x-python",
   "name": "python",
   "nbconvert_exporter": "python",
   "pygments_lexer": "ipython3",
   "version": "3.10.5"
  }
 },
 "nbformat": 4,
 "nbformat_minor": 4
}
